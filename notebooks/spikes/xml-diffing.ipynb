{
 "cells": [
  {
   "cell_type": "code",
   "execution_count": 7,
   "metadata": {},
   "outputs": [],
   "source": [
    "import subprocess\n",
    "from freemap.helpers.files import write\n",
    "\n",
    "TF1 = '../../data/Mindmap.mm'\n",
    "TF2 = '../../tests/data/Mindmap.mm'\n",
    "\n",
    "def xml_equal(path1: str, path2: str):\n",
    "    f1 = canconicalize(path1)\n",
    "    f2 = canconicalize(path2)\n",
    "    return f1 == f2\n",
    "\n",
    "def canconicalize(path1: str):\n",
    "    r = subprocess.run(['xmllint',\n",
    "                        '--exc-c14n',\n",
    "                        path1],capture_output=True)\n",
    "    return r.stdout.decode('utf-8')"
   ]
  },
  {
   "cell_type": "code",
   "execution_count": 8,
   "outputs": [
    {
     "data": {
      "text/plain": "True"
     },
     "execution_count": 8,
     "metadata": {},
     "output_type": "execute_result"
    }
   ],
   "source": [
    "xml_equal(TF1, TF2)"
   ],
   "metadata": {
    "collapsed": false,
    "pycharm": {
     "name": "#%%\n"
    }
   }
  },
  {
   "cell_type": "code",
   "execution_count": 10,
   "outputs": [],
   "source": [
    "write(canconicalize(TF1),'test1.xml')"
   ],
   "metadata": {
    "collapsed": false,
    "pycharm": {
     "name": "#%%\n"
    }
   }
  },
  {
   "cell_type": "code",
   "execution_count": null,
   "outputs": [],
   "source": [],
   "metadata": {
    "collapsed": false,
    "pycharm": {
     "name": "#%%\n"
    }
   }
  }
 ],
 "metadata": {
  "kernelspec": {
   "display_name": "Python 3",
   "language": "python",
   "name": "python3"
  },
  "language_info": {
   "codemirror_mode": {
    "name": "ipython",
    "version": 3
   },
   "file_extension": ".py",
   "mimetype": "text/x-python",
   "name": "python",
   "nbconvert_exporter": "python",
   "pygments_lexer": "ipython3",
   "version": "3.8.10"
  }
 },
 "nbformat": 4,
 "nbformat_minor": 1
}
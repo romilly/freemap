{
 "cells": [
  {
   "cell_type": "code",
   "execution_count": 2,
   "metadata": {},
   "outputs": [],
   "source": [
    "import subprocess"
   ]
  },
  {
   "cell_type": "code",
   "execution_count": 3,
   "metadata": {
    "pycharm": {
     "name": "#%%\n"
    },
    "scrolled": true
   },
   "outputs": [
    {
     "data": {
      "text/plain": [
       "<subprocess.Popen at 0x7f42ec66ac10>"
      ]
     },
     "execution_count": 3,
     "metadata": {},
     "output_type": "execute_result"
    },
    {
     "name": "stdout",
     "output_type": "stream",
     "text": [
      "*org.knopflerfish.framework.readonly=true\n",
      "*org.knopflerfish.gosg.jars=reference:file:/home/romilly/library/freeplane-1.7.2/core/\n",
      "*org.freeplane.user.dir=/home/romilly/git/active/freemap/notebooks/spikes\n",
      "*org.freeplane.basedirectory=/home/romilly/library/freeplane-1.7.2\n",
      "org.freeplane.globalresourcedir=/home/romilly/library/freeplane-1.7.2/resources\n",
      "*java.security.policy=/home/romilly/library/freeplane-1.7.2/freeplane.policy\n",
      "*org.osgi.framework.storage=/home/romilly/library/freeplane-1.7.2/fwdir\n",
      "Knopflerfish OSGi framework launcher, version <unknown>\n",
      "Copyright 2003-2017 Knopflerfish. All Rights Reserved.\n",
      "See http://www.knopflerfish.org for more information.\n",
      "\n",
      "Created Framework: org.knopflerfish.framework, version=8.0.4.\n",
      "Background mode.\n"
     ]
    },
    {
     "name": "stderr",
     "output_type": "stream",
     "text": [
      "WARNING: An illegal reflective access operation has occurred\n",
      "WARNING: Illegal reflective access by org.freeplane.core.util.Compat (bundle://1) to field sun.awt.X11.XWM.awt_wmgr\n",
      "WARNING: Please consider reporting this to the maintainers of org.freeplane.core.util.Compat\n",
      "WARNING: Use --illegal-access=warn to enable warnings of further illegal reflective access operations\n",
      "WARNING: All illegal access operations will be denied in a future release\n",
      "Dec 22, 2021 10:59:15 AM org.freeplane.core.util.LogUtils info\n",
      "INFO: Loaded properties from bundle://1:1/freeplane.properties\n",
      "Dec 22, 2021 10:59:15 AM org.freeplane.core.util.LogUtils info\n",
      "INFO: Loaded properties from bundle://1:2/org/freeplane/main/application/\n",
      "Dec 22, 2021 10:59:15 AM org.freeplane.core.util.LogUtils info\n",
      "INFO: Listening for application instances on socket 37279\n",
      "Dec 22, 2021 10:59:15 AM org.freeplane.core.util.LogUtils info\n",
      "INFO: language resources for en found\n"
     ]
    },
    {
     "name": "stdout",
     "output_type": "stream",
     "text": [
      "Installed: reference:file:/home/romilly/library/freeplane-1.7.2/plugins/org.freeplane.plugin.bugreport (id#2)\n",
      "Installed: reference:file:/home/romilly/library/freeplane-1.7.2/plugins/org.freeplane.plugin.formula (id#3)\n",
      "Installed: reference:file:/home/romilly/library/freeplane-1.7.2/plugins/org.freeplane.plugin.latex (id#4)\n",
      "Installed: reference:file:/home/romilly/library/freeplane-1.7.2/plugins/org.freeplane.plugin.jsyntaxpane (id#5)\n",
      "Installed: reference:file:/home/romilly/library/freeplane-1.7.2/plugins/org.freeplane.plugin.svg (id#6)\n",
      "Installed: reference:file:/home/romilly/library/freeplane-1.7.2/plugins/org.freeplane.plugin.openmaps (id#7)\n",
      "Installed: reference:file:/home/romilly/library/freeplane-1.7.2/plugins/org.freeplane.plugin.script (id#8)\n",
      "Started: reference:file:/home/romilly/library/freeplane-1.7.2/plugins/org.freeplane.plugin.bugreport (id#2)\n",
      "Started: reference:file:/home/romilly/library/freeplane-1.7.2/plugins/org.freeplane.plugin.formula (id#3)\n",
      "Started: reference:file:/home/romilly/library/freeplane-1.7.2/plugins/org.freeplane.plugin.latex (id#4)\n",
      "Started: reference:file:/home/romilly/library/freeplane-1.7.2/plugins/org.freeplane.plugin.jsyntaxpane (id#5)\n",
      "Started: reference:file:/home/romilly/library/freeplane-1.7.2/plugins/org.freeplane.plugin.svg (id#6)\n",
      "Started: reference:file:/home/romilly/library/freeplane-1.7.2/plugins/org.freeplane.plugin.openmaps (id#7)\n",
      "Started: reference:file:/home/romilly/library/freeplane-1.7.2/plugins/org.freeplane.plugin.script (id#8)\n",
      "Dec 22, 2021 10:59:15 AM org.freeplane.core.util.LogUtils info\n",
      "INFO: freeplane_version = 1.7.2; freeplane_xml_version = freeplane 1.7.0\n",
      "java_version = 11.0.13; os_name = Linux; os_version = 5.4.0-91-generic\n",
      "Dec 22, 2021 10:59:16 AM org.freeplane.core.util.LogUtils info\n",
      "INFO: added parsing support for standard date format M/d/yy\n",
      "Dec 22, 2021 10:59:16 AM org.freeplane.core.util.LogUtils info\n",
      "INFO: added parsing support for standard date time format M/d/yy, h:mm a\n",
      "Dec 22, 2021 10:59:16 AM org.freeplane.core.util.LogUtils info\n",
      "INFO: available locales not found\n",
      "Dec 22, 2021 10:59:16 AM org.freeplane.core.util.LogUtils info\n",
      "INFO: available locales not found\n",
      "Dec 22, 2021 10:59:17 AM org.freeplane.core.util.LogUtils info\n",
      "INFO: Loaded properties from bundle://3:1/org/freeplane/plugin/formula/defaults.properties\n",
      "Dec 22, 2021 10:59:17 AM org.freeplane.core.util.LogUtils info\n",
      "INFO: extending script's classpath by [/home/romilly/git/active/freemap/tests/freeplane/1.7.x/compiledscripts, /home/romilly/git/active/freemap/tests/freeplane/1.7.x/lib, /home/romilly/git/active/freemap/tests/freeplane/1.7.x/lib/jython-standalone-2.7.2.jar]\n",
      "Dec 22, 2021 10:59:17 AM org.freeplane.core.util.LogUtils info\n",
      "INFO: Loaded properties from bundle://8:1/org/freeplane/plugin/script/defaults.properties\n",
      "Dec 22, 2021 10:59:17 AM org.freeplane.core.util.LogUtils info\n",
      "INFO: Loaded properties from bundle://8:1/org/freeplane/plugin/script/defaults.properties\n",
      "Dec 22, 2021 10:59:17 AM org.freeplane.core.util.LogUtils info\n",
      "INFO: looking for scripts with the following endings: [groovy, js, py]\n",
      "Framework launched\n",
      "Dec 22, 2021 10:59:18 AM org.freeplane.core.util.LogUtils info\n",
      "INFO: requesting mode: MindMap\n",
      "Dec 22, 2021 10:59:19 AM org.freeplane.core.util.LogUtils info\n",
      "INFO: menu items to execute: []\n"
     ]
    }
   ],
   "source": [
    "FREEPLANE = '/home/romilly/library/freeplane-1.7.2/freeplane.sh'\n",
    "subprocess.Popen([FREEPLANE, '-U/home/romilly/git/active/freemap/tests/freeplane',\n",
    "                         '/home/romilly/git/active/freemap/data/Mindmap.mm'])"
   ]
  },
  {
   "cell_type": "code",
   "execution_count": 5,
   "metadata": {
    "pycharm": {
     "name": "#%%\n"
    }
   },
   "outputs": [],
   "source": [
    "from time import sleep\n",
    "\n",
    "def wait_for_freeplane():\n",
    "    for i in range(10):\n",
    "        sleep(0.05)\n",
    "        sc1 = subprocess.call([\"xdotool\", \"search\", \"--name\", \"Freeplane\", \"windowactivate\"])\n",
    "        if sc1 == 0:\n",
    "            return 0\n",
    "    return 1\n",
    "\n",
    "\n",
    "\n",
    "\n",
    "def export_png():\n",
    "    return subprocess.call([\"xdotool\", \"key\", \"alt+f\", \"alt+e\", \"Return\"])\n"
   ]
  },
  {
   "cell_type": "code",
   "execution_count": 6,
   "metadata": {
    "pycharm": {
     "name": "#%%\n"
    }
   },
   "outputs": [],
   "source": [
    "if 0 == wait_for_freeplane():\n",
    "    export_png()\n",
    "else:\n",
    "    print('timed out')"
   ]
  },
  {
   "cell_type": "code",
   "execution_count": 36,
   "metadata": {
    "pycharm": {
     "name": "#%%\n"
    }
   },
   "outputs": [],
   "source": [
    "def open_map(name):\n",
    "    subprocess.call([\"xdotool\", \"search\", \"--name\", \"Freeplane\", \"windowactivate\"])\n",
    "    subprocess.call([\"xdotool\", \"key\", \"\", \"ctrl+o\", \"type\", name,])\n",
    "    subprocess.call([\"xdotool\", \"key\",\"Return\"])"
   ]
  },
  {
   "cell_type": "code",
   "execution_count": 37,
   "metadata": {
    "pycharm": {
     "name": "#%%\n"
    }
   },
   "outputs": [],
   "source": [
    "open_map('Mindmap.mm')"
   ]
  },
  {
   "cell_type": "code",
   "execution_count": 38,
   "metadata": {
    "pycharm": {
     "name": "#%%\n"
    }
   },
   "outputs": [],
   "source": [
    "open_map('test1.mm')"
   ]
  },
  {
   "cell_type": "code",
   "execution_count": null,
   "metadata": {
    "pycharm": {
     "name": "#%%\n"
    }
   },
   "outputs": [],
   "source": []
  }
 ],
 "metadata": {
  "kernelspec": {
   "display_name": "Python 3",
   "language": "python",
   "name": "python3"
  },
  "language_info": {
   "codemirror_mode": {
    "name": "ipython",
    "version": 3
   },
   "file_extension": ".py",
   "mimetype": "text/x-python",
   "name": "python",
   "nbconvert_exporter": "python",
   "pygments_lexer": "ipython3",
   "version": "3.8.10"
  }
 },
 "nbformat": 4,
 "nbformat_minor": 1
}

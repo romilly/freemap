{
 "cells": [
  {
   "cell_type": "code",
   "execution_count": 18,
   "metadata": {
    "collapsed": true
   },
   "outputs": [],
   "source": [
    "from freemap.helpers.files import read\n",
    "from freemap.map import Map\n",
    "import os\n"
   ]
  },
  {
   "cell_type": "code",
   "execution_count": 19,
   "outputs": [],
   "source": [
    "active_map = Map.from_string(read('/home/romilly/Dropbox/personal/planning/routine/active-projects.mm'))\n",
    "root = active_map.root()\n",
    "from freemap.link_checker import check_paths\n",
    "\n",
    "check_paths(root, '/home/romilly/Dropbox/personal/planning/routine')\n",
    "\n"
   ],
   "metadata": {
    "collapsed": false,
    "pycharm": {
     "name": "#%%\n"
    }
   }
  },
  {
   "cell_type": "markdown",
   "source": [
    "I've now fixed all the links.\n",
    "\n",
    "Next, create a new version fo the map where all links are absolute.\n"
   ],
   "metadata": {
    "collapsed": false
   }
  },
  {
   "cell_type": "code",
   "execution_count": 20,
   "outputs": [
    {
     "name": "stdout",
     "output_type": "stream",
     "text": [
      "Active\n",
      "\n",
      "Projects\n",
      "absolute-Active\n",
      "\n",
      "Projects\n"
     ]
    },
    {
     "ename": "AttributeError",
     "evalue": "can't set attribute",
     "output_type": "error",
     "traceback": [
      "\u001B[0;31m---------------------------------------------------------------------------\u001B[0m",
      "\u001B[0;31mAttributeError\u001B[0m                            Traceback (most recent call last)",
      "\u001B[0;32m/tmp/ipykernel_97574/1943940808.py\u001B[0m in \u001B[0;36m<module>\u001B[0;34m\u001B[0m\n\u001B[1;32m      6\u001B[0m \u001B[0mnew_text\u001B[0m \u001B[0;34m=\u001B[0m \u001B[0;34m'absolute-'\u001B[0m\u001B[0;34m+\u001B[0m\u001B[0mold_text\u001B[0m\u001B[0;34m\u001B[0m\u001B[0;34m\u001B[0m\u001B[0m\n\u001B[1;32m      7\u001B[0m \u001B[0mprint\u001B[0m\u001B[0;34m(\u001B[0m\u001B[0mnew_text\u001B[0m\u001B[0;34m)\u001B[0m\u001B[0;34m\u001B[0m\u001B[0;34m\u001B[0m\u001B[0m\n\u001B[0;32m----> 8\u001B[0;31m \u001B[0mnew_map\u001B[0m\u001B[0;34m.\u001B[0m\u001B[0mroot\u001B[0m\u001B[0;34m(\u001B[0m\u001B[0;34m)\u001B[0m\u001B[0;34m.\u001B[0m\u001B[0mrich_content\u001B[0m \u001B[0;34m=\u001B[0m \u001B[0mnew_text\u001B[0m\u001B[0;34m\u001B[0m\u001B[0;34m\u001B[0m\u001B[0m\n\u001B[0m\u001B[1;32m      9\u001B[0m \u001B[0mwrite\u001B[0m\u001B[0;34m(\u001B[0m\u001B[0mnew_map\u001B[0m\u001B[0;34m.\u001B[0m\u001B[0mas_text\u001B[0m\u001B[0;34m(\u001B[0m\u001B[0;34m)\u001B[0m\u001B[0;34m,\u001B[0m\u001B[0;34m'new-active-projects.mm'\u001B[0m\u001B[0;34m)\u001B[0m\u001B[0;34m\u001B[0m\u001B[0;34m\u001B[0m\u001B[0m\n",
      "\u001B[0;31mAttributeError\u001B[0m: can't set attribute"
     ]
    }
   ],
   "source": [
    "from freemap.helpers.files import write\n",
    "\n",
    "new_map = Map.from_string(read('/home/romilly/Dropbox/personal/planning/routine/active-projects.mm'))\n",
    "old_text =    new_map.root().text\n",
    "print(old_text)\n",
    "new_text = 'absolute-'+old_text\n",
    "print(new_text)\n",
    "new_map.root().rich_content = new_text\n",
    "write(new_map.as_text(),'new-active-projects.mm')"
   ],
   "metadata": {
    "collapsed": false,
    "pycharm": {
     "name": "#%%\n"
    }
   }
  },
  {
   "cell_type": "code",
   "execution_count": null,
   "outputs": [],
   "source": [],
   "metadata": {
    "collapsed": false,
    "pycharm": {
     "name": "#%%\n"
    }
   }
  }
 ],
 "metadata": {
  "kernelspec": {
   "display_name": "Python 3",
   "language": "python",
   "name": "python3"
  },
  "language_info": {
   "codemirror_mode": {
    "name": "ipython",
    "version": 2
   },
   "file_extension": ".py",
   "mimetype": "text/x-python",
   "name": "python",
   "nbconvert_exporter": "python",
   "pygments_lexer": "ipython2",
   "version": "2.7.6"
  }
 },
 "nbformat": 4,
 "nbformat_minor": 0
}
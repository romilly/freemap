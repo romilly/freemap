{
 "cells": [
  {
   "cell_type": "code",
   "execution_count": 1,
   "metadata": {
    "collapsed": true
   },
   "outputs": [],
   "source": [
    "from freemap.helpers.files import read\n",
    "from freemap.map import Map\n"
   ]
  },
  {
   "cell_type": "code",
   "execution_count": 2,
   "outputs": [],
   "source": [
    "active_map = Map.from_string(read('../../personal/active-projects.mm'))"
   ],
   "metadata": {
    "collapsed": false,
    "pycharm": {
     "name": "#%%\n"
    }
   }
  },
  {
   "cell_type": "code",
   "execution_count": 3,
   "outputs": [],
   "source": [
    "root = active_map.root()"
   ],
   "metadata": {
    "collapsed": false,
    "pycharm": {
     "name": "#%%\n"
    }
   }
  },
  {
   "cell_type": "code",
   "execution_count": 5,
   "outputs": [
    {
     "data": {
      "text/plain": "8"
     },
     "execution_count": 5,
     "metadata": {},
     "output_type": "execute_result"
    }
   ],
   "source": [
    "len(root.branches())"
   ],
   "metadata": {
    "collapsed": false,
    "pycharm": {
     "name": "#%%\n"
    }
   }
  },
  {
   "cell_type": "code",
   "execution_count": 7,
   "outputs": [
    {
     "name": "stdout",
     "output_type": "stream",
     "text": [
      "Rareblog\n",
      "Pip\n",
      "concerns\n",
      "sknoman\n",
      "personal\n",
      "robot\n",
      "resources\n",
      "learning\n"
     ]
    }
   ],
   "source": [
    "for branch in root.branches():\n",
    "    print(branch.text)"
   ],
   "metadata": {
    "collapsed": false,
    "pycharm": {
     "name": "#%%\n"
    }
   }
  },
  {
   "cell_type": "code",
   "execution_count": 10,
   "outputs": [
    {
     "name": "stdout",
     "output_type": "stream",
     "text": [
      "** Rareblog **\n",
      "marketing ../../Dropbox/resources/marketing/Marketing.mm\n",
      "Build-a-brain ../../../../git/active/build-a-brain/plan/build-a-brain-plan.mm\n",
      "bdd-tester None\n",
      "lazydoro ../../../../git/active/lazydoro/plan/lazydoro-plan.mm\n",
      "TiB ../../../../git/active/tib/plan/TIB.mm\n",
      "InfoProducts ../../../../git/active/info-products/plan/info-products-plan.mm\n",
      "babelboard ../../../../git/active/babelboard-private/plan/babelboard-plan.mm\n",
      "tf-benchmarks ../../../../git/active/tf-benchmarks/plan/tf-benchmarks-plan.mm\n",
      "breadboarder ../../../../git/active/breadboarder/plan/Boarder-plan.mm\n",
      "arduino day 2020 ../../../../git/active/arduino-day-2020/plan/arduino-day-2020-plan.mm\n",
      "scientific self development ../../../../git/active/scientific-self-development/plan/scientific-self-development-plan.mm\n",
      "fritzomatic ../../../../git/active/fritzomatic/plan/fritzomatic-plan.mm\n",
      "Dyalog None\n",
      "microplot ../../../../git/active/microplot/plan/microplot-plan.mm\n",
      "Adafruit None\n",
      "synths ../../../../git/active/synths/plan/synths-plan.mm\n",
      "Pi Pico ../../../../git/active/pi-pico/plan/pi-pico-plan.mm\n",
      "RARESchool ../../../../git/active/rareschool-private/plan/rareschool-private-plan.mm\n",
      "** Pip **\n",
      "linked map and markdown /home/romilly/git/active/linked-markdown-and-mindmap/plan/linked-markdown-and-mindmap-plan.mm\n",
      "pip-marketing ../../git/active/pip-marketing/plan/pip-marketing-plan.mm\n",
      "zero-web ../../../../git/active/zero-web/plan/zero-web-plan.mm\n",
      "fp2md ../../../../git/active/fp2md/plan/fp2md-plan.mm\n",
      "freemap None\n",
      "** concerns **\n",
      "** sknoman **\n",
      "mind mapping None\n",
      "snow-sna ../../../../git/active/skno-sna/plan/skno-sna-plan.mm\n",
      "infrastructure ../../../../git/active/inftastructure/plan/inftastructure-plan.mm\n",
      "paperchase-skno ../../../../git/active/paperchase-skno/plan/paperchase-skno-plan.mm\n",
      "feedmail ../../../../git/active/feedmail/plan/feedmail-plan.mm\n",
      "gmail-skno ../../../../git/active/gmail-skno/plan/gmail-skno-plan.mm\n",
      "wikipedia-skno ../../../../git/active/wikipedia-skno/plan/wikipedia-skno-plan.mm\n",
      "paperchase ../../../../git/active/paperchase/plan/paperchase-plan.mm\n",
      "simple scholar simple-scholar/plan/simple-scholar-plan.mm\n",
      "** personal **\n",
      "study tidy study-tidy/plan/study-tidy-plan.mm\n",
      "Kent move ../../../../git/someday/Kent-move/plan/Kent-move-plan.mm\n",
      "flat contents insurance ../../../../git/active/flat-content-insurance/plan/flat-content-insurance-plan.mm\n",
      "60 years a geek ../../../../git/active/60geek/plan/60geek-plan.mm\n",
      "HMS Amethyst ../../../../git/active/Amethyst/plan/Amethyst.mm\n",
      "alex-pi ../../../../git/active/alex-pi/plan/alex-pi-plan.mm\n",
      "energenie ../../../../git/active/energenie/plan/energenie-plan.mm\n",
      "devx60 - 60 years a developer ../../../../git/active/devx60/plan/devx60-plan.mm\n",
      "mygame ../../../../git/active/mygame/plan/mygame-plan.mm\n",
      "retirement move ../../../../git/active/retirement-move/plan/retirement-move-plan.mm\n",
      "wesnoth editor ../../../../git/active/wesnoth-editor/plan/wesnoth-editor-plan.mm\n",
      "tidying up ../../../../git/active/tidy-up/plan/tidy-up-plan.mm\n",
      "Ghana Schools ../../../../git/active/ghana-schools/plan/ghana-schools-plan.mm\n",
      "level up ../../../../git/active/level-up/plan/level-up-plan.mm\n",
      "blog import ../../../../git/active/website-blog-import/blog-import-plan.mm\n",
      "** robot **\n",
      "https://www.ghostrobotics.io/ https://www.ghostrobotics.io/\n",
      "** resources **\n",
      "** learning **\n",
      "Languages None\n",
      "maths ../../../../git/active/maths/plan/MathStudy.mm\n",
      "crepe audio ../../../../git/active/crepe-audio/plan/crepe-audio-plan.mm\n",
      "book-notes ../../../../git/active/book-notes/plan/book-notes-plan.mm\n",
      "LPC1114 ../../../../git/active/LPC114/plan/LPC114-plan.mm\n",
      "APL remastered ../../../../git/active/apl-remastered/plan/apl-remastered-plan.mm\n",
      "Python Data Science Courses ../../../../git/active/data-science-python/plan/PythonDataScienceCourses.mm\n"
     ]
    }
   ],
   "source": [
    "for branch in root.branches():\n",
    "    print('** %s **' % branch.text)\n",
    "    for sub in branch.branches():\n",
    "        print(sub.text, sub.link)"
   ],
   "metadata": {
    "collapsed": false,
    "pycharm": {
     "name": "#%%\n"
    }
   }
  },
  {
   "cell_type": "code",
   "execution_count": 11,
   "outputs": [],
   "source": [
    "def show(branch, level):\n",
    "    print(level*' ', branch.text, branch.link if branch.link is not None else '')\n",
    "    for sub in branch.branches():\n",
    "        show(sub, level+1)\n"
   ],
   "metadata": {
    "collapsed": false,
    "pycharm": {
     "name": "#%%\n"
    }
   }
  },
  {
   "cell_type": "code",
   "execution_count": 12,
   "outputs": [
    {
     "name": "stdout",
     "output_type": "stream",
     "text": [
      "** Rareblog **\n",
      "  Rareblog ../../../../git/active/RareBlog/plan/rareplan.mm\n",
      "   marketing ../../Dropbox/resources/marketing/Marketing.mm\n",
      "   Build-a-brain ../../../../git/active/build-a-brain/plan/build-a-brain-plan.mm\n",
      "    PyTorch ../../../../git/active/pytorch/plan/pytorch-plan.mm\n",
      "    Jetson nano ../../../../git/active/jetson-nano/plan/jetson-nano-plan.mm\n",
      "    TensorFlow ../../../../git/active/tf-experiments/plan/tf-experiments-plan.mm\n",
      "    baby learns to talk ../../../../git/active/baby-talk/plan/baby-talk-plan.mm\n",
      "    c elegans ../../../../git/active/c-elegans/plan/c-elegans-plan.mm\n",
      "   bdd-tester \n",
      "    lmm-talk-20180709 ../../../../git/active/RareBlog/presentations/lmm-talk-20180709.mm\n",
      "   lazydoro ../../../../git/active/lazydoro/plan/lazydoro-plan.mm\n",
      "   TiB ../../../../git/active/tib/plan/TIB.mm\n",
      "   InfoProducts ../../../../git/active/info-products/plan/info-products-plan.mm\n",
      "    Deep learning on the Jetson Nano ../../../../git/active/deep-nano/plan/deep-nano-plan.mm\n",
      "    start apl ../../../../git/active/start-apl/plan/Start-APL.mm\n",
      "    AI Info products ../../../../git/active/ai-info-products/plan/AI-info-products-plan.mm\n",
      "    sambot ../../../../git/someday/sambot/plan/sambot-plan.mm\n",
      "    LEPAT ../../../../git/active/lepat/plan/lepat-plan.mm\n",
      "    Nano and Chips cookbook ../../../../git/active/nano-and-chips/plan/nano-and-chips-plan.mm\n",
      "    anastasia ../../../../git/active/anastasia-bot/plan/anastasia-bot-plan.mm\n",
      "     private ../../../../git/active/anastasia-private/plan/anastasia-private-plan.mm\n",
      "    RUR ../../../../git/active/RUR/plan/RUR-plan.mm\n",
      "    multi VL53L0X plan /home/romilly/git/active/multi-VL53L0X/plan/multi-VL53L0X-plan.mm\n",
      "    hat-tricks ../../../../git/active/explorer-hat/plan/hat-book.mm\n",
      "    Making the Shrimp making-the-shrimp/plan/shrimplab-plan.mm\n",
      "    SSD scientific-self-development/plan/scientific-self-development-plan.mm\n",
      "    Kitronik Inventor's kit Python Companion kitronk-python-companion/plan/kitronk-python-companion-plan.mm\n",
      "    APL remastered ../../../../git/active/apl-remastered/plan/apl-remastered-plan.mm\n",
      "   babelboard ../../../../git/active/babelboard-private/plan/babelboard-plan.mm\n",
      "   tf-benchmarks ../../../../git/active/tf-benchmarks/plan/tf-benchmarks-plan.mm\n",
      "   breadboarder ../../../../git/active/breadboarder/plan/Boarder-plan.mm\n",
      "   arduino day 2020 ../../../../git/active/arduino-day-2020/plan/arduino-day-2020-plan.mm\n",
      "   scientific self development ../../../../git/active/scientific-self-development/plan/scientific-self-development-plan.mm\n",
      "   fritzomatic ../../../../git/active/fritzomatic/plan/fritzomatic-plan.mm\n",
      "   Dyalog \n",
      "    marketing for dyalog ../../../../git/active/dyalog-marketing/plan/Marketing-for-Dyalog.mm\n",
      "    XNORNet ../../../../git/active/xnor-net/plan/xnor-net-plan.mm\n",
      "    APL ANN ../../../../git/active/apl-ann/plan/apl-ann-plan.mm\n",
      "    CNN architectures ../../../../git/active/cnn-architectures/plan/cnn-architectures-plan.mm\n",
      "    oxo ../../../../git/active/o-x-o/plan/o-x-o-plan.mm\n",
      "    mamia ../../../../git/active/mamia/plan/mama-plan.mm\n",
      "   microplot ../../../../git/active/microplot/plan/microplot-plan.mm\n",
      "   Adafruit \n",
      "    Clue ../../../../git/active/adafruit-clue/plan/adafruit-clue-plan.mm\n",
      "    PyPortal ../../../../git/active/adafruit-pyportal/plan/adafruit-pyportal-plan.mm\n",
      "    demos ../../../../git/active/Adafruit-demos/plan/adafruit-demos-plan.mm\n",
      "   synths ../../../../git/active/synths/plan/synths-plan.mm\n",
      "   Pi Pico ../../../../git/active/pi-pico/plan/pi-pico-plan.mm\n",
      "    Pico ../../../../git/active/picolinka/plan/picolinka-plan.mm\n",
      "   RARESchool ../../../../git/active/rareschool-private/plan/rareschool-private-plan.mm\n",
      "** Pip **\n",
      "  Pip ../../Dropbox/resources/pip/pip.mm\n",
      "   linked map and markdown /home/romilly/git/active/linked-markdown-and-mindmap/plan/linked-markdown-and-mindmap-plan.mm\n",
      "   pip-marketing ../../git/active/pip-marketing/plan/pip-marketing-plan.mm\n",
      "   zero-web ../../../../git/active/zero-web/plan/zero-web-plan.mm\n",
      "   fp2md ../../../../git/active/fp2md/plan/fp2md-plan.mm\n",
      "    fp2md-private ../../../../git/active/fp2md-private/plan/fp2md-private-plan.mm\n",
      "   freemap \n",
      "** concerns **\n",
      "  concerns Concerns.mm\n",
      "** sknoman **\n",
      "  sknoman \n",
      "   mind mapping \n",
      "   snow-sna ../../../../git/active/skno-sna/plan/skno-sna-plan.mm\n",
      "   infrastructure ../../../../git/active/inftastructure/plan/inftastructure-plan.mm\n",
      "   paperchase-skno ../../../../git/active/paperchase-skno/plan/paperchase-skno-plan.mm\n",
      "   feedmail ../../../../git/active/feedmail/plan/feedmail-plan.mm\n",
      "   gmail-skno ../../../../git/active/gmail-skno/plan/gmail-skno-plan.mm\n",
      "   wikipedia-skno ../../../../git/active/wikipedia-skno/plan/wikipedia-skno-plan.mm\n",
      "   paperchase ../../../../git/active/paperchase/plan/paperchase-plan.mm\n",
      "   simple scholar simple-scholar/plan/simple-scholar-plan.mm\n",
      "** personal **\n",
      "  personal \n",
      "   study tidy study-tidy/plan/study-tidy-plan.mm\n",
      "   Kent move ../../../../git/someday/Kent-move/plan/Kent-move-plan.mm\n",
      "   flat contents insurance ../../../../git/active/flat-content-insurance/plan/flat-content-insurance-plan.mm\n",
      "   60 years a geek ../../../../git/active/60geek/plan/60geek-plan.mm\n",
      "   HMS Amethyst ../../../../git/active/Amethyst/plan/Amethyst.mm\n",
      "   alex-pi ../../../../git/active/alex-pi/plan/alex-pi-plan.mm\n",
      "   energenie ../../../../git/active/energenie/plan/energenie-plan.mm\n",
      "   devx60 - 60 years a developer ../../../../git/active/devx60/plan/devx60-plan.mm\n",
      "   mygame ../../../../git/active/mygame/plan/mygame-plan.mm\n",
      "   retirement move ../../../../git/active/retirement-move/plan/retirement-move-plan.mm\n",
      "    planning objection planning-objection/plan/planning-objection-plan.mm\n",
      "   wesnoth editor ../../../../git/active/wesnoth-editor/plan/wesnoth-editor-plan.mm\n",
      "   tidying up ../../../../git/active/tidy-up/plan/tidy-up-plan.mm\n",
      "   Ghana Schools ../../../../git/active/ghana-schools/plan/ghana-schools-plan.mm\n",
      "   level up ../../../../git/active/level-up/plan/level-up-plan.mm\n",
      "   blog import ../../../../git/active/website-blog-import/blog-import-plan.mm\n",
      "** robot **\n",
      "  robot \n",
      "   https://www.ghostrobotics.io/ https://www.ghostrobotics.io/\n",
      "** resources **\n",
      "  resources ../../../resources/Resources.mm\n",
      "** learning **\n",
      "  learning \n",
      "   Languages \n",
      "    mandarin ../../../../git/active/languages/plan/mandarin-plan.mm\n",
      "    french ../../../../git/active/languages/plan/accentuate-plan.mm\n",
      "   maths ../../../../git/active/maths/plan/MathStudy.mm\n",
      "    probability \n",
      "     jaynes ../../../../git/active/jaynes-probability/plan/jaynes-probability-plan.mm\n",
      "    math for ann ../../../../git/active/math-for-ann/plan/math-for-ann-plan.mm\n",
      "   crepe audio ../../../../git/active/crepe-audio/plan/crepe-audio-plan.mm\n",
      "   book-notes ../../../../git/active/book-notes/plan/book-notes-plan.mm\n",
      "   LPC1114 ../../../../git/active/LPC114/plan/LPC114-plan.mm\n",
      "   APL remastered ../../../../git/active/apl-remastered/plan/apl-remastered-plan.mm\n",
      "   Python Data Science Courses ../../../../git/active/data-science-python/plan/PythonDataScienceCourses.mm\n"
     ]
    }
   ],
   "source": [
    "for branch in root.branches():\n",
    "    print('** %s **' % branch.text)\n",
    "    show(branch, 1)"
   ],
   "metadata": {
    "collapsed": false,
    "pycharm": {
     "name": "#%%\n"
    }
   }
  },
  {
   "cell_type": "code",
   "execution_count": null,
   "outputs": [],
   "source": [],
   "metadata": {
    "collapsed": false,
    "pycharm": {
     "name": "#%%\n"
    }
   }
  }
 ],
 "metadata": {
  "kernelspec": {
   "display_name": "Python 3",
   "language": "python",
   "name": "python3"
  },
  "language_info": {
   "codemirror_mode": {
    "name": "ipython",
    "version": 2
   },
   "file_extension": ".py",
   "mimetype": "text/x-python",
   "name": "python",
   "nbconvert_exporter": "python",
   "pygments_lexer": "ipython2",
   "version": "2.7.6"
  }
 },
 "nbformat": 4,
 "nbformat_minor": 0
}
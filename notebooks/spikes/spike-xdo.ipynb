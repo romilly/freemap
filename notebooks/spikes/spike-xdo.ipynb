{
 "cells": [
  {
   "cell_type": "markdown",
   "metadata": {
    "pycharm": {
     "name": "#%% md\n"
    }
   },
   "source": [
    "test1.mmtest1.mm"
   ]
  },
  {
   "cell_type": "code",
   "execution_count": 7,
   "metadata": {},
   "outputs": [
    {
     "data": {
      "text/plain": "'home/romilly/git/active/freemap'"
     },
     "execution_count": 7,
     "metadata": {},
     "output_type": "execute_result"
    }
   ],
   "source": [
    "import subprocess\n",
    "import os\n",
    "\n",
    "cwd = os.getcwd()\n",
    "np = os.path.normpath(cwd)\n",
    "paths = np.split(os.sep)\n",
    "os.path.join(*paths[:-2])"
   ]
  },
  {
   "cell_type": "code",
   "execution_count": 8,
   "metadata": {
    "pycharm": {
     "name": "#%%\n"
    }
   },
   "outputs": [],
   "source": [
    "FREEPLANE = '/home/romilly/library/freeplane-1.7.2/freeplane.sh'\n",
    "PROJECT_HOME = '/home/romilly/git/active/freemap'\n",
    "DATA_DIR = os.path.join(PROJECT_HOME, 'data')\n",
    "for fn in os.listdir(DATA_DIR):\n",
    "    path = os.path.join(DATA_DIR, fn)\n",
    "    if os.path.isfile(path) and fn.endswith('.png'):\n",
    "        os.remove(path)"
   ]
  },
  {
   "cell_type": "code",
   "execution_count": 2,
   "metadata": {
    "pycharm": {
     "name": "#%%\n"
    }
   },
   "outputs": [],
   "source": [
    "\n",
    "from time import sleep\n",
    "\n",
    "class WindowNotFound(Exception):\n",
    "    def __init__(self, message):\n",
    "        Exception.__init__(self, message)\n",
    "\n",
    "class Xdo:\n",
    "    def __init__(self, window_name, path_to_app, *app_params):\n",
    "        self.window_name = window_name\n",
    "        self.path_to_app = path_to_app\n",
    "        self.app_params = app_params\n",
    "\n",
    "    def wait_for_window(self, timeout_seconds: int = 10):\n",
    "        for i in range(100 * timeout_seconds):\n",
    "            sleep(0.01)\n",
    "            sc1 = subprocess.call([\"xdotool\", \"search\", \"--name\", self.window_name, \"windowactivate\"])\n",
    "            if sc1 == 0:\n",
    "                return 0\n",
    "        raise WindowNotFound('cannot find %s window' % self.window_name)\n",
    "\n",
    "    def open_app(self):\n",
    "        so = open('/dev/null')\n",
    "        subprocess.Popen([self.path_to_app]+list(self.app_params),\n",
    "                  stdout=so, stderr=so)\n",
    "\n",
    "    def export_png(self):\n",
    "        subprocess.call([\"xdotool\", \"search\", \"--name\", self.window_name, \"windowactivate\"])\n",
    "        subprocess.call([\"xdotool\", \"key\", \"alt+f\", \"alt+e\", \"Return\"])\n",
    "\n",
    "    def open_map(self, name):\n",
    "        subprocess.call([\"xdotool\", \"search\", \"--name\", self.window_name, \"windowactivate\"])\n",
    "        sleep(0.1)\n",
    "        subprocess.call([\"xdotool\", \"key\", \"ctrl+o\", \"type\", name,])\n",
    "        subprocess.call([\"xdotool\", \"key\",\"Return\"])\n",
    "\n",
    "    def close_current_map(self):\n",
    "        subprocess.call([\"xdotool\", \"search\", \"--name\", self.window_name, \"windowactivate\"])\n",
    "        sleep(0.1)\n",
    "        subprocess.call([\"xdotool\", \"key\", \"ctrl+w\"])\n",
    "\n"
   ]
  },
  {
   "cell_type": "code",
   "execution_count": 9,
   "metadata": {
    "pycharm": {
     "name": "#%%\n"
    }
   },
   "outputs": [],
   "source": [
    "xdo = Xdo('Freeplane', FREEPLANE, '%s/data/Mindmap.mm' % PROJECT_HOME)"
   ]
  },
  {
   "cell_type": "code",
   "execution_count": null,
   "outputs": [],
   "source": [
    "xdo.open_app()\n",
    "sleep(10)"
   ],
   "metadata": {
    "collapsed": false,
    "pycharm": {
     "name": "#%%\n"
    }
   }
  },
  {
   "cell_type": "code",
   "execution_count": 5,
   "metadata": {
    "pycharm": {
     "name": "#%%\n"
    }
   },
   "outputs": [],
   "source": [
    "xdo.open_map('Mindmap.mm')\n",
    "xdo.export_png()"
   ]
  },
  {
   "cell_type": "code",
   "execution_count": 6,
   "metadata": {
    "pycharm": {
     "name": "#%%\n"
    }
   },
   "outputs": [],
   "source": [
    "xdo.open_map('test1.mm')"
   ]
  },
  {
   "cell_type": "code",
   "execution_count": 10,
   "outputs": [],
   "source": [
    "xdo.export_png()"
   ],
   "metadata": {
    "collapsed": false,
    "pycharm": {
     "name": "#%%\n"
    }
   }
  },
  {
   "cell_type": "code",
   "execution_count": 7,
   "metadata": {
    "pycharm": {
     "name": "#%%\n"
    }
   },
   "outputs": [],
   "source": [
    "xdo.close_current_map()"
   ]
  },
  {
   "cell_type": "code",
   "execution_count": null,
   "metadata": {
    "pycharm": {
     "name": "#%%\n"
    }
   },
   "outputs": [],
   "source": []
  }
 ],
 "metadata": {
  "kernelspec": {
   "display_name": "Python 3",
   "language": "python",
   "name": "python3"
  },
  "language_info": {
   "codemirror_mode": {
    "name": "ipython",
    "version": 3
   },
   "file_extension": ".py",
   "mimetype": "text/x-python",
   "name": "python",
   "nbconvert_exporter": "python",
   "pygments_lexer": "ipython3",
   "version": "3.8.10"
  }
 },
 "nbformat": 4,
 "nbformat_minor": 1
}
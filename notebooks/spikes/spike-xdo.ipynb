{
 "cells": [
  {
   "cell_type": "code",
   "execution_count": 2,
   "metadata": {},
   "outputs": [],
   "source": [
    "import subprocess"
   ]
  },
  {
   "cell_type": "code",
   "execution_count": 4,
   "metadata": {
    "pycharm": {
     "name": "#%%\n"
    },
    "scrolled": true
   },
   "outputs": [
    {
     "data": {
      "text/plain": "<subprocess.Popen at 0x7f32081dcaf0>"
     },
     "execution_count": 4,
     "metadata": {},
     "output_type": "execute_result"
    }
   ],
   "source": [
    "FREEPLANE = '/home/romilly/library/freeplane-1.7.2/freeplane.sh'\n",
    "so = open('/dev/null')\n",
    "subprocess.Popen([FREEPLANE, '-U/home/romilly/git/active/freemap/tests/freeplane',\n",
    "                         '/home/romilly/git/active/freemap/data/Mindmap.mm'],\n",
    "                  stdout=so, stderr=so)"
   ]
  },
  {
   "cell_type": "code",
   "execution_count": 5,
   "metadata": {
    "pycharm": {
     "name": "#%%\n"
    }
   },
   "outputs": [],
   "source": [
    "from time import sleep\n",
    "\n",
    "def wait_for_freeplane():\n",
    "    for i in range(10):\n",
    "        sleep(0.05)\n",
    "        sc1 = subprocess.call([\"xdotool\", \"search\", \"--name\", \"Freeplane\", \"windowactivate\"])\n",
    "        if sc1 == 0:\n",
    "            return 0\n",
    "    return 1\n",
    "\n",
    "\n",
    "\n",
    "\n",
    "def export_png():\n",
    "    return subprocess.call([\"xdotool\", \"key\", \"alt+f\", \"alt+e\", \"Return\"])\n"
   ]
  },
  {
   "cell_type": "code",
   "execution_count": 6,
   "metadata": {
    "pycharm": {
     "name": "#%%\n"
    }
   },
   "outputs": [],
   "source": [
    "if 0 == wait_for_freeplane():\n",
    "    export_png()\n",
    "else:\n",
    "    print('timed out')"
   ]
  },
  {
   "cell_type": "code",
   "execution_count": 36,
   "metadata": {
    "pycharm": {
     "name": "#%%\n"
    }
   },
   "outputs": [],
   "source": [
    "def open_map(name):\n",
    "    subprocess.call([\"xdotool\", \"search\", \"--name\", \"Freeplane\", \"windowactivate\"])\n",
    "    subprocess.call([\"xdotool\", \"key\", \"\", \"ctrl+o\", \"type\", name,])\n",
    "    subprocess.call([\"xdotool\", \"key\",\"Return\"])"
   ]
  },
  {
   "cell_type": "code",
   "execution_count": 37,
   "metadata": {
    "pycharm": {
     "name": "#%%\n"
    }
   },
   "outputs": [],
   "source": [
    "open_map('Mindmap.mm')"
   ]
  },
  {
   "cell_type": "code",
   "execution_count": 38,
   "metadata": {
    "pycharm": {
     "name": "#%%\n"
    }
   },
   "outputs": [],
   "source": [
    "open_map('test1.mm')"
   ]
  },
  {
   "cell_type": "code",
   "execution_count": null,
   "metadata": {
    "pycharm": {
     "name": "#%%\n"
    }
   },
   "outputs": [],
   "source": []
  }
 ],
 "metadata": {
  "kernelspec": {
   "display_name": "Python 3",
   "language": "python",
   "name": "python3"
  },
  "language_info": {
   "codemirror_mode": {
    "name": "ipython",
    "version": 3
   },
   "file_extension": ".py",
   "mimetype": "text/x-python",
   "name": "python",
   "nbconvert_exporter": "python",
   "pygments_lexer": "ipython3",
   "version": "3.8.10"
  }
 },
 "nbformat": 4,
 "nbformat_minor": 1
}